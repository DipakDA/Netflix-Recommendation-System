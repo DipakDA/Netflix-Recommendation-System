{
 "cells": [
  {
   "cell_type": "code",
   "execution_count": 1,
   "metadata": {},
   "outputs": [],
   "source": [
    "import pandas as pd\n",
    "import numpy as np\n",
    "import matplotlib.pyplot as plt\n",
    "import sklearn"
   ]
  },
  {
   "cell_type": "code",
   "execution_count": 2,
   "metadata": {},
   "outputs": [],
   "source": [
    "data1 = pd.read_csv(\"./../netflix-prize-data/updated_data1.txt\", sep = \",\", header = None)\n",
    "data1.columns = [\"UserID\", \"Ratings\", \"Date\", \"MovieID\"]\n",
    "#print(data1)"
   ]
  },
  {
   "cell_type": "code",
   "execution_count": 3,
   "metadata": {},
   "outputs": [],
   "source": [
    "Mean = data1.groupby([\"UserID\"], as_index = False, sort = False).mean().rename(columns = {\"Ratings\": \"rating_mean\"})[[\"UserID\", \"rating_mean\"]]\n",
    "data1 = pd.merge(data1, Mean, on = \"UserID\", how = \"left\", sort = False)\n",
    "data1[\"Adjusted_Ratings\"] = data1[\"Ratings\"] - data1[\"rating_mean\"]\n",
    "#print(data1)"
   ]
  },
  {
   "cell_type": "code",
   "execution_count": 4,
   "metadata": {},
   "outputs": [
    {
     "name": "stdout",
     "output_type": "stream",
     "text": [
      "470758\n"
     ]
    }
   ],
   "source": [
    "distinct_users = np.unique(data1[\"UserID\"]).size\n",
    "print(distinct_users)"
   ]
  },
  {
   "cell_type": "code",
   "execution_count": null,
   "metadata": {},
   "outputs": [],
   "source": [
    "corre_matrix = np.\n"
   ]
  }
 ],
 "metadata": {
  "kernelspec": {
   "display_name": "Python 2",
   "language": "python",
   "name": "python2"
  },
  "language_info": {
   "codemirror_mode": {
    "name": "ipython",
    "version": 3
   },
   "file_extension": ".py",
   "mimetype": "text/x-python",
   "name": "python",
   "nbconvert_exporter": "python",
   "pygments_lexer": "ipython3",
   "version": "3.6.5"
  }
 },
 "nbformat": 4,
 "nbformat_minor": 2
}
